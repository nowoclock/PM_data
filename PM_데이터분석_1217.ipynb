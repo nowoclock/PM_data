{
  "nbformat": 4,
  "nbformat_minor": 0,
  "metadata": {
    "colab": {
      "provenance": [],
      "authorship_tag": "ABX9TyNy2zFayhtw6rvsZ/3A5YG1",
      "include_colab_link": true
    },
    "kernelspec": {
      "name": "python3",
      "display_name": "Python 3"
    },
    "language_info": {
      "name": "python"
    }
  },
  "cells": [
    {
      "cell_type": "markdown",
      "metadata": {
        "id": "view-in-github",
        "colab_type": "text"
      },
      "source": [
        "<a href=\"https://colab.research.google.com/github/nowoclock/PM_data/blob/main/PM_%EB%8D%B0%EC%9D%B4%ED%84%B0%EB%B6%84%EC%84%9D_1217.ipynb\" target=\"_parent\"><img src=\"https://colab.research.google.com/assets/colab-badge.svg\" alt=\"Open In Colab\"/></a>"
      ]
    },
    {
      "cell_type": "code",
      "source": [
        "%cd /content/PM_data"
      ],
      "metadata": {
        "colab": {
          "base_uri": "https://localhost:8080/"
        },
        "id": "xNy498UiEFqY",
        "outputId": "f7111fd9-d3e6-4a10-9467-3632c2135195"
      },
      "execution_count": 4,
      "outputs": [
        {
          "output_type": "stream",
          "name": "stdout",
          "text": [
            "/content/PM_data\n"
          ]
        }
      ]
    },
    {
      "cell_type": "code",
      "execution_count": 5,
      "metadata": {
        "colab": {
          "base_uri": "https://localhost:8080/"
        },
        "collapsed": true,
        "id": "K78nD1Ek-YDt",
        "outputId": "fed5badc-7564-4360-f9cf-bfb8bbf6616a"
      },
      "outputs": [
        {
          "output_type": "stream",
          "name": "stdout",
          "text": [
            "Cloning into 'PM_data'...\n",
            "remote: Enumerating objects: 6, done.\u001b[K\n",
            "remote: Counting objects: 100% (6/6), done.\u001b[K\n",
            "remote: Compressing objects: 100% (3/3), done.\u001b[K\n",
            "remote: Total 6 (delta 0), reused 0 (delta 0), pack-reused 0 (from 0)\u001b[K\n",
            "Receiving objects: 100% (6/6), done.\n"
          ]
        }
      ],
      "source": [
        "!git clone https://github.com/nowoclock/PM_data.git"
      ]
    },
    {
      "cell_type": "code",
      "source": [
        "! git config --global user.email \"clock1998.dev@gmail.com\"\n",
        "! git config --global user.name \"nowoclock\""
      ],
      "metadata": {
        "id": "Aiu7FlSpEhVx"
      },
      "execution_count": 6,
      "outputs": []
    },
    {
      "cell_type": "code",
      "source": [
        "! git add .\n",
        "! git commit -m \"add file\""
      ],
      "metadata": {
        "colab": {
          "base_uri": "https://localhost:8080/"
        },
        "id": "8Fb7vhBXEnTJ",
        "outputId": "d4296431-76c3-4222-a7d1-f25e2479eabd"
      },
      "execution_count": 8,
      "outputs": [
        {
          "output_type": "stream",
          "name": "stdout",
          "text": [
            "[main 80c6c64] add file\n",
            " 1 file changed, 1 insertion(+)\n",
            " create mode 160000 PM_data\n"
          ]
        }
      ]
    },
    {
      "cell_type": "markdown",
      "source": [
        "# TMDB"
      ],
      "metadata": {
        "id": "-zOhVRvaAAGO"
      }
    },
    {
      "cell_type": "code",
      "source": [
        "print(1)"
      ],
      "metadata": {
        "colab": {
          "base_uri": "https://localhost:8080/"
        },
        "id": "IctkfaAp_6iv",
        "outputId": "028063df-d559-4eaf-c67e-1e5bb9f6a2d3"
      },
      "execution_count": 3,
      "outputs": [
        {
          "output_type": "stream",
          "name": "stdout",
          "text": [
            "1\n"
          ]
        }
      ]
    },
    {
      "cell_type": "code",
      "source": [],
      "metadata": {
        "id": "HgKuLqe5D5XW"
      },
      "execution_count": null,
      "outputs": []
    }
  ]
}